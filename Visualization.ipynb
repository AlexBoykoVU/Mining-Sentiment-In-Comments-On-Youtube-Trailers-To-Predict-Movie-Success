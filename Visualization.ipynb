{
 "cells": [
  {
   "cell_type": "code",
   "execution_count": 82,
   "metadata": {},
   "outputs": [],
   "source": [
    "import pandas as pd\n",
    "\n",
    "import matplotlib.pyplot as plt\n",
    "import seaborn as sns\n",
    "import numpy as np\n",
    "\n",
    "from textblob import TextBlob"
   ]
  },
  {
   "cell_type": "code",
   "execution_count": 83,
   "metadata": {},
   "outputs": [],
   "source": [
    "results = pd.read_csv(\"final_result.csv\")"
   ]
  },
  {
   "cell_type": "code",
   "execution_count": 84,
   "metadata": {},
   "outputs": [
    {
     "data": {
      "text/html": [
       "<div>\n",
       "<style scoped>\n",
       "    .dataframe tbody tr th:only-of-type {\n",
       "        vertical-align: middle;\n",
       "    }\n",
       "\n",
       "    .dataframe tbody tr th {\n",
       "        vertical-align: top;\n",
       "    }\n",
       "\n",
       "    .dataframe thead th {\n",
       "        text-align: right;\n",
       "    }\n",
       "</style>\n",
       "<table border=\"1\" class=\"dataframe\">\n",
       "  <thead>\n",
       "    <tr style=\"text-align: right;\">\n",
       "      <th></th>\n",
       "      <th>Video ID</th>\n",
       "      <th>Sentiment</th>\n",
       "      <th>Rating</th>\n",
       "      <th>Revenue</th>\n",
       "    </tr>\n",
       "  </thead>\n",
       "  <tbody>\n",
       "    <tr>\n",
       "      <th>0</th>\n",
       "      <td>l9laReRAYFk</td>\n",
       "      <td>0.008875</td>\n",
       "      <td>6.7</td>\n",
       "      <td>1.256972e+08</td>\n",
       "    </tr>\n",
       "    <tr>\n",
       "      <th>1</th>\n",
       "      <td>KmrU6gMc1Lc</td>\n",
       "      <td>0.008915</td>\n",
       "      <td>4.3</td>\n",
       "      <td>NaN</td>\n",
       "    </tr>\n",
       "    <tr>\n",
       "      <th>2</th>\n",
       "      <td>-egQ79OrYCs</td>\n",
       "      <td>0.008745</td>\n",
       "      <td>4.1</td>\n",
       "      <td>3.197139e+08</td>\n",
       "    </tr>\n",
       "    <tr>\n",
       "      <th>3</th>\n",
       "      <td>AST2-4db4ic</td>\n",
       "      <td>0.009075</td>\n",
       "      <td>8.0</td>\n",
       "      <td>2.031276e+08</td>\n",
       "    </tr>\n",
       "    <tr>\n",
       "      <th>4</th>\n",
       "      <td>LUG2U-IxPx0</td>\n",
       "      <td>0.008663</td>\n",
       "      <td>6.3</td>\n",
       "      <td>1.575636e+08</td>\n",
       "    </tr>\n",
       "    <tr>\n",
       "      <th>5</th>\n",
       "      <td>aieQrj9Yy8s</td>\n",
       "      <td>0.009048</td>\n",
       "      <td>6.7</td>\n",
       "      <td>1.000140e+08</td>\n",
       "    </tr>\n",
       "    <tr>\n",
       "      <th>6</th>\n",
       "      <td>nTTMeo5TwkA</td>\n",
       "      <td>-0.008428</td>\n",
       "      <td>3.7</td>\n",
       "      <td>NaN</td>\n",
       "    </tr>\n",
       "    <tr>\n",
       "      <th>7</th>\n",
       "      <td>a6O30nJ02PU</td>\n",
       "      <td>0.008548</td>\n",
       "      <td>4.6</td>\n",
       "      <td>4.041978e+07</td>\n",
       "    </tr>\n",
       "    <tr>\n",
       "      <th>8</th>\n",
       "      <td>5PSNL1qE6VY</td>\n",
       "      <td>0.009976</td>\n",
       "      <td>7.8</td>\n",
       "      <td>2.790429e+09</td>\n",
       "    </tr>\n",
       "    <tr>\n",
       "      <th>9</th>\n",
       "      <td>-_DJEzZk2pc</td>\n",
       "      <td>0.008663</td>\n",
       "      <td>8.6</td>\n",
       "      <td>1.074151e+09</td>\n",
       "    </tr>\n",
       "    <tr>\n",
       "      <th>10</th>\n",
       "      <td>drOC1VNA8XM</td>\n",
       "      <td>0.010031</td>\n",
       "      <td>1.9</td>\n",
       "      <td>1.410928e+07</td>\n",
       "    </tr>\n",
       "    <tr>\n",
       "      <th>11</th>\n",
       "      <td>YwHQfvY_s_Y</td>\n",
       "      <td>0.000019</td>\n",
       "      <td>3.1</td>\n",
       "      <td>1.968292e+07</td>\n",
       "    </tr>\n",
       "    <tr>\n",
       "      <th>12</th>\n",
       "      <td>7Pa_Weidt08</td>\n",
       "      <td>0.008624</td>\n",
       "      <td>6.5</td>\n",
       "      <td>3.512664e+08</td>\n",
       "    </tr>\n",
       "    <tr>\n",
       "      <th>13</th>\n",
       "      <td>xlnPHQ3TLX8</td>\n",
       "      <td>0.009366</td>\n",
       "      <td>8.4</td>\n",
       "      <td>8.070822e+08</td>\n",
       "    </tr>\n",
       "    <tr>\n",
       "      <th>14</th>\n",
       "      <td>7bfS6seiLhk</td>\n",
       "      <td>0.008716</td>\n",
       "      <td>6.1</td>\n",
       "      <td>NaN</td>\n",
       "    </tr>\n",
       "    <tr>\n",
       "      <th>15</th>\n",
       "      <td>tL4McUzXfFI</td>\n",
       "      <td>0.008508</td>\n",
       "      <td>8.0</td>\n",
       "      <td>8.849779e+07</td>\n",
       "    </tr>\n",
       "    <tr>\n",
       "      <th>16</th>\n",
       "      <td>ySy8mcceTno</td>\n",
       "      <td>-0.008085</td>\n",
       "      <td>3.2</td>\n",
       "      <td>5.173855e+07</td>\n",
       "    </tr>\n",
       "    <tr>\n",
       "      <th>17</th>\n",
       "      <td>42KNwQ6u42U</td>\n",
       "      <td>0.009054</td>\n",
       "      <td>6.4</td>\n",
       "      <td>6.162114e+07</td>\n",
       "    </tr>\n",
       "    <tr>\n",
       "      <th>18</th>\n",
       "      <td>r8pJt4dK_s4</td>\n",
       "      <td>0.007874</td>\n",
       "      <td>3.2</td>\n",
       "      <td>2.177766e+08</td>\n",
       "    </tr>\n",
       "    <tr>\n",
       "      <th>19</th>\n",
       "      <td>YqNYrYUiMfg</td>\n",
       "      <td>-0.008534</td>\n",
       "      <td>8.4</td>\n",
       "      <td>3.647941e+08</td>\n",
       "    </tr>\n",
       "    <tr>\n",
       "      <th>20</th>\n",
       "      <td>dSBsNeYqh-k</td>\n",
       "      <td>0.008613</td>\n",
       "      <td>7.6</td>\n",
       "      <td>5.383818e+07</td>\n",
       "    </tr>\n",
       "    <tr>\n",
       "      <th>21</th>\n",
       "      <td>ek1ePFp-nBI</td>\n",
       "      <td>0.008365</td>\n",
       "      <td>6.6</td>\n",
       "      <td>2.554852e+08</td>\n",
       "    </tr>\n",
       "    <tr>\n",
       "      <th>22</th>\n",
       "      <td>SEUXfv87Wpk</td>\n",
       "      <td>0.009361</td>\n",
       "      <td>8.6</td>\n",
       "      <td>2.423546e+08</td>\n",
       "    </tr>\n",
       "    <tr>\n",
       "      <th>23</th>\n",
       "      <td>zyYgDtY2AMY</td>\n",
       "      <td>0.008900</td>\n",
       "      <td>8.2</td>\n",
       "      <td>2.254104e+08</td>\n",
       "    </tr>\n",
       "    <tr>\n",
       "      <th>24</th>\n",
       "      <td>Fru8IkuDp_k</td>\n",
       "      <td>0.009765</td>\n",
       "      <td>6.8</td>\n",
       "      <td>1.847774e+07</td>\n",
       "    </tr>\n",
       "    <tr>\n",
       "      <th>25</th>\n",
       "      <td>aDshY43Ol2U</td>\n",
       "      <td>0.009301</td>\n",
       "      <td>6.3</td>\n",
       "      <td>1.199424e+08</td>\n",
       "    </tr>\n",
       "    <tr>\n",
       "      <th>26</th>\n",
       "      <td>pn_4KlFmkbU</td>\n",
       "      <td>-0.005767</td>\n",
       "      <td>5.1</td>\n",
       "      <td>NaN</td>\n",
       "    </tr>\n",
       "    <tr>\n",
       "      <th>27</th>\n",
       "      <td>QkZxoko_HC0</td>\n",
       "      <td>0.010099</td>\n",
       "      <td>8.2</td>\n",
       "      <td>NaN</td>\n",
       "    </tr>\n",
       "  </tbody>\n",
       "</table>\n",
       "</div>"
      ],
      "text/plain": [
       "       Video ID  Sentiment  Rating       Revenue\n",
       "0   l9laReRAYFk   0.008875     6.7  1.256972e+08\n",
       "1   KmrU6gMc1Lc   0.008915     4.3           NaN\n",
       "2   -egQ79OrYCs   0.008745     4.1  3.197139e+08\n",
       "3   AST2-4db4ic   0.009075     8.0  2.031276e+08\n",
       "4   LUG2U-IxPx0   0.008663     6.3  1.575636e+08\n",
       "5   aieQrj9Yy8s   0.009048     6.7  1.000140e+08\n",
       "6   nTTMeo5TwkA  -0.008428     3.7           NaN\n",
       "7   a6O30nJ02PU   0.008548     4.6  4.041978e+07\n",
       "8   5PSNL1qE6VY   0.009976     7.8  2.790429e+09\n",
       "9   -_DJEzZk2pc   0.008663     8.6  1.074151e+09\n",
       "10  drOC1VNA8XM   0.010031     1.9  1.410928e+07\n",
       "11  YwHQfvY_s_Y   0.000019     3.1  1.968292e+07\n",
       "12  7Pa_Weidt08   0.008624     6.5  3.512664e+08\n",
       "13  xlnPHQ3TLX8   0.009366     8.4  8.070822e+08\n",
       "14  7bfS6seiLhk   0.008716     6.1           NaN\n",
       "15  tL4McUzXfFI   0.008508     8.0  8.849779e+07\n",
       "16  ySy8mcceTno  -0.008085     3.2  5.173855e+07\n",
       "17  42KNwQ6u42U   0.009054     6.4  6.162114e+07\n",
       "18  r8pJt4dK_s4   0.007874     3.2  2.177766e+08\n",
       "19  YqNYrYUiMfg  -0.008534     8.4  3.647941e+08\n",
       "20  dSBsNeYqh-k   0.008613     7.6  5.383818e+07\n",
       "21  ek1ePFp-nBI   0.008365     6.6  2.554852e+08\n",
       "22  SEUXfv87Wpk   0.009361     8.6  2.423546e+08\n",
       "23  zyYgDtY2AMY   0.008900     8.2  2.254104e+08\n",
       "24  Fru8IkuDp_k   0.009765     6.8  1.847774e+07\n",
       "25  aDshY43Ol2U   0.009301     6.3  1.199424e+08\n",
       "26  pn_4KlFmkbU  -0.005767     5.1           NaN\n",
       "27  QkZxoko_HC0   0.010099     8.2           NaN"
      ]
     },
     "execution_count": 84,
     "metadata": {},
     "output_type": "execute_result"
    }
   ],
   "source": [
    "results"
   ]
  },
  {
   "cell_type": "markdown",
   "metadata": {},
   "source": [
    "## 1. Displaying the results"
   ]
  },
  {
   "cell_type": "code",
   "execution_count": 85,
   "metadata": {},
   "outputs": [
    {
     "data": {
      "text/plain": [
       "Text(0, 0.5, 'Sentiment')"
      ]
     },
     "execution_count": 85,
     "metadata": {},
     "output_type": "execute_result"
    },
    {
     "data": {
      "image/png": "[encoded data removed]",
      "text/plain": [
       "<Figure size 432x288 with 1 Axes>"
      ]
     },
     "metadata": {
      "needs_background": "light"
     },
     "output_type": "display_data"
    }
   ],
   "source": [
    "plt.bar(results['Video ID'], results['Sentiment'])\n",
    "plt.xticks([])\n",
    "plt.ylabel('Sentiment')"
   ]
  },
  {
   "cell_type": "code",
   "execution_count": 86,
   "metadata": {},
   "outputs": [
    {
     "data": {
      "text/plain": [
       "(0.007, 0.0105)"
      ]
     },
     "execution_count": 86,
     "metadata": {},
     "output_type": "execute_result"
    },
    {
     "data": {
      "image/png": "[encoded data removed]",
      "text/plain": [
       "<Figure size 432x288 with 1 Axes>"
      ]
     },
     "metadata": {
      "needs_background": "light"
     },
     "output_type": "display_data"
    }
   ],
   "source": [
    "plt.boxplot(results[results.Sentiment > 0]['Sentiment'])\n",
    "plt.ylim(0.0070, 0.0105)"
   ]
  },
  {
   "cell_type": "markdown",
   "metadata": {},
   "source": [
    "## 2. Positive vs. Negative reviews"
   ]
  },
  {
   "cell_type": "code",
   "execution_count": 89,
   "metadata": {},
   "outputs": [
    {
     "data": {
      "text/plain": [
       "([<matplotlib.patches.Wedge at 0x134678390>,\n",
       "  <matplotlib.patches.Wedge at 0x134678d10>],\n",
       " [Text(-0.9910657674599292, 0.4772720865178076, 'Positive'),\n",
       "  Text(0.9910657898026469, -0.47727204012267027, 'Negative')],\n",
       " [Text(-0.5405813277054159, 0.2603302290097132, '85.7%'),\n",
       "  Text(0.5405813398923528, -0.2603302037032747, '14.3%')])"
      ]
     },
     "execution_count": 89,
     "metadata": {},
     "output_type": "execute_result"
    },
    {
     "data": {
      "image/png": "[encoded data removed]",
      "text/plain": [
       "<Figure size 432x288 with 1 Axes>"
      ]
     },
     "metadata": {},
     "output_type": "display_data"
    }
   ],
   "source": [
    "results1 = results[results.Sentiment > 0]\n",
    "results2 = results[results.Sentiment < 0]\n",
    "results_list = [len(results1), len(results2)]\n",
    "results_list\n",
    "\n",
    "plt.pie(results_list, autopct='%1.1f%%', labels=['Positive', 'Negative'], shadow=True)"
   ]
  },
  {
   "cell_type": "markdown",
   "metadata": {},
   "source": [
    "## 3. Correlation Graph with a Line of Best Fit (answering reseach question)"
   ]
  },
  {
   "cell_type": "code",
   "execution_count": 111,
   "metadata": {},
   "outputs": [
    {
     "data": {
      "text/plain": [
       "[<matplotlib.lines.Line2D at 0x134556190>]"
      ]
     },
     "execution_count": 111,
     "metadata": {},
     "output_type": "execute_result"
    },
    {
     "data": {
      "image/png": "[encoded data removed]",
      "text/plain": [
       "<Figure size 432x288 with 1 Axes>"
      ]
     },
     "metadata": {
      "needs_background": "light"
     },
     "output_type": "display_data"
    }
   ],
   "source": [
    "#We use a linear regression model to plot a line of best fit onto our results.\n",
    "\n",
    "m, b = np.polyfit(results['Rating'], results['Sentiment'], 1)\n",
    "\n",
    "#plt.plot(results['Rating'], results['Sentiment'], 'o')\n",
    "plt.scatter(results['Rating'], results['Sentiment'], edgecolors='r')\n",
    "plt.ylabel('Sentiment Polarity')\n",
    "plt.xlabel('Rating')\n",
    "plt.title('Rating vs. Sentiment Score + Line of Best Fit')\n",
    "plt.ylim([-0.0095, 0.0110])\n",
    "plt.plot(results['Rating'], m*results['Rating'] + b)\n",
    "\n",
    "#As we can see, we have a positive correlation between movie rating and sentiment of comments."
   ]
  },
  {
   "cell_type": "markdown",
   "metadata": {},
   "source": [
    "## 4. Sentiment of a single movie"
   ]
  },
  {
   "cell_type": "code",
   "execution_count": 32,
   "metadata": {},
   "outputs": [],
   "source": [
    "df1 = pd.read_csv(\"comments/Parasite.csv\")\n",
    "\n",
    "final_list = []\n",
    "for comment in df1['Comment']:\n",
    "    text = TextBlob(comment)\n",
    "    result = text.sentiment.polarity\n",
    "    final_list.append(result)\n",
    "df1['Sentiment'] = final_list"
   ]
  },
  {
   "cell_type": "code",
   "execution_count": 20,
   "metadata": {},
   "outputs": [
    {
     "data": {
      "text/plain": [
       "<matplotlib.axes._subplots.AxesSubplot at 0x132302f50>"
      ]
     },
     "execution_count": 20,
     "metadata": {},
     "output_type": "execute_result"
    },
    {
     "data": {
      "image/png": "[encoded data removed]",
      "text/plain": [
       "<Figure size 1152x432 with 1 Axes>"
      ]
     },
     "metadata": {
      "needs_background": "light"
     },
     "output_type": "display_data"
    }
   ],
   "source": [
    "# Density Plot and Histogram\n",
    "plt.figure(figsize=(16, 6))\n",
    "sns.distplot(df1['Sentiment'], hist=True, kde=True, \n",
    "             bins=int(180/20), color = 'darkblue', \n",
    "             hist_kws={'edgecolor':'black'},\n",
    "             kde_kws={'linewidth': 4})"
   ]
  },
  {
   "cell_type": "markdown",
   "metadata": {},
   "source": [
    "## 5. Correlation Graph (Revenue vs. Sentiment)"
   ]
  },
  {
   "cell_type": "code",
   "execution_count": 69,
   "metadata": {},
   "outputs": [
    {
     "data": {
      "text/plain": [
       "[<matplotlib.lines.Line2D at 0x1336b8790>]"
      ]
     },
     "execution_count": 69,
     "metadata": {},
     "output_type": "execute_result"
    },
    {
     "data": {
      "image/png": "[encoded data removed]",
      "text/plain": [
       "<Figure size 432x288 with 1 Axes>"
      ]
     },
     "metadata": {
      "needs_background": "light"
     },
     "output_type": "display_data"
    }
   ],
   "source": [
    "results3 = results.dropna()\n",
    "\n",
    "m, b = np.polyfit(results3['Revenue'], results3['Sentiment'], 1)\n",
    "\n",
    "plt.plot(results3['Revenue'], results3['Sentiment'], 'o')\n",
    "plt.plot(results3['Revenue'], m*results3['Revenue'] + b)\n",
    "\n",
    "#Weak positive correlation"
   ]
  },
  {
   "cell_type": "code",
   "execution_count": null,
   "metadata": {},
   "outputs": [],
   "source": []
  }
 ],
 "metadata": {
  "kernelspec": {
   "display_name": "Python 3",
   "language": "python",
   "name": "python3"
  },
  "language_info": {
   "codemirror_mode": {
    "name": "ipython",
    "version": 3
   },
   "file_extension": ".py",
   "mimetype": "text/x-python",
   "name": "python",
   "nbconvert_exporter": "python",
   "pygments_lexer": "ipython3",
   "version": "3.7.6"
  }
 },
 "nbformat": 4,
 "nbformat_minor": 4
}
