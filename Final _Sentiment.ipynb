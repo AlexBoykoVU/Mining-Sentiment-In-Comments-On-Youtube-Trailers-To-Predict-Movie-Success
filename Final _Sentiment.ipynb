{
 "cells": [
  {
   "cell_type": "code",
   "execution_count": 1,
   "metadata": {},
   "outputs": [
    {
     "name": "stdout",
     "output_type": "stream",
     "text": [
      "Collecting textblob\n",
      "  Downloading textblob-0.15.3-py2.py3-none-any.whl (636 kB)\n",
      "\u001b[K     |████████████████████████████████| 636 kB 2.5 MB/s eta 0:00:01\n",
      "\u001b[?25hRequirement already satisfied: nltk>=3.1 in /anaconda3/lib/python3.5/site-packages (from textblob) (3.3)\n",
      "Requirement already satisfied: six in /anaconda3/lib/python3.5/site-packages (from nltk>=3.1->textblob) (1.11.0)\n",
      "Installing collected packages: textblob\n",
      "Successfully installed textblob-0.15.3\n"
     ]
    }
   ],
   "source": [
    "!pip install textblob"
   ]
  },
  {
   "cell_type": "code",
   "execution_count": 23,
   "metadata": {},
   "outputs": [
    {
     "name": "stdout",
     "output_type": "stream",
     "text": [
      "/Users/maggieilieva/Documents/SocialWeb/Comments/Midway.csv\n",
      "/Users/maggieilieva/Documents/SocialWeb/Comments/The_Last_Thing_He_Wanted.csv\n",
      "/Users/maggieilieva/Documents/SocialWeb/Comments/commentsTheLastAirbender.csv\n",
      "/Users/maggieilieva/Documents/SocialWeb/Comments/Little_Women.csv\n",
      "/Users/maggieilieva/Documents/SocialWeb/Comments/Hustlers.csv\n",
      "/Users/maggieilieva/Documents/SocialWeb/Comments/Atomic_Blonde.csv\n",
      "/Users/maggieilieva/Documents/SocialWeb/Comments/comments-theFarm.csv\n",
      "/Users/maggieilieva/Documents/SocialWeb/Comments/Fantasy_Island.csv\n",
      "/Users/maggieilieva/Documents/SocialWeb/Comments/Avatar.csv\n",
      "/Users/maggieilieva/Documents/SocialWeb/Comments/Joker.csv\n",
      "/Users/maggieilieva/Documents/SocialWeb/Comments/comments-Disaster Movie.csv\n",
      "/Users/maggieilieva/Documents/SocialWeb/Comments/comments-Left Behind.csv\n",
      "/Users/maggieilieva/Documents/SocialWeb/Comments/Peter_Rabbit.csv\n",
      "/Users/maggieilieva/Documents/SocialWeb/Comments/Coco.csv\n",
      "/Users/maggieilieva/Documents/SocialWeb/Comments/The_Kissing_Booth.csv\n",
      "/Users/maggieilieva/Documents/SocialWeb/Comments/JOJO_RABBIT.csv\n",
      "/Users/maggieilieva/Documents/SocialWeb/Comments/Slender_Man.csv\n",
      "/Users/maggieilieva/Documents/SocialWeb/Comments/everything_everything.csv\n",
      "/Users/maggieilieva/Documents/SocialWeb/Comments/The_Emoji_Movie.csv\n",
      "/Users/maggieilieva/Documents/SocialWeb/Comments/1917.csv\n",
      "/Users/maggieilieva/Documents/SocialWeb/Comments/The_Invisible_Man.csv\n",
      "/Users/maggieilieva/Documents/SocialWeb/Comments/Halloween.csv\n",
      "/Users/maggieilieva/Documents/SocialWeb/Comments/Parasite.csv\n",
      "/Users/maggieilieva/Documents/SocialWeb/Comments/FORD_v_FERRARI.csv\n",
      "/Users/maggieilieva/Documents/SocialWeb/Comments/Motherless_Brooklyn.csv\n",
      "/Users/maggieilieva/Documents/SocialWeb/Comments/The_Commuter.csv\n",
      "/Users/maggieilieva/Documents/SocialWeb/Comments/Company_of_Heroes.csv\n",
      "/Users/maggieilieva/Documents/SocialWeb/Comments/Green_Book.csv\n"
     ]
    }
   ],
   "source": [
    "import pandas as pd\n",
    "import csv\n",
    "import os\n",
    "import glob\n",
    "import seaborn as sns\n",
    "import numpy as np\n",
    "import matplotlib.pyplot as plt\n",
    " \n",
    "from textblob import TextBlob\n",
    "\n",
    "def find_pol(review):\n",
    "    return TextBlob(review).sentiment.polarity\n",
    "\n",
    "original_ratings = pd.read_csv('/Users/maggieilieva/Documents/SocialWeb/id-rating-revenue.csv')\n",
    "\n",
    "f = open('/Users/maggieilieva/Documents/SocialWeb/final_result.csv', 'w')\n",
    "with f:\n",
    "    writer = csv.writer(f)\n",
    "    writer.writerow(['Video ID', 'Sentiment', 'Rating', 'Revenue'])\n",
    "    \n",
    "\n",
    "for file in glob.glob('/Users/maggieilieva/Documents/SocialWeb/Comments/*.csv'):\n",
    "    print(file)\n",
    "    p_comments = pd.read_csv(file)\n",
    "    movie_id = p_comments['Video ID'][1]\n",
    "    movie_row = original_ratings.loc[original_ratings['ID'] == movie_id]\n",
    "    movie_rating = movie_row['Rating']\n",
    "    movie_revenue = movie_row['Revenue']\n",
    "\n",
    "    p_comments['Sentiment_Polarity'] = p_comments['Comment'].apply(find_pol)\n",
    "    plt.figure()\n",
    "    plot = sns.distplot(p_comments['Sentiment_Polarity'])\n",
    "\n",
    "    y = plot.lines[0].get_ydata()\n",
    "    x = plot.lines[0].get_xdata()\n",
    "    maxid = np.argmax(y)\n",
    "    plt.close()\n",
    "\n",
    "    f = open('/Users/maggieilieva/Documents/SocialWeb/final_result.csv', 'a')\n",
    "    with f:\n",
    "        writer = csv.writer(f)\n",
    "        writer.writerow([movie_id, x[maxid], movie_rating.values[0], movie_revenue.values[0]])\n",
    "        \n",
    "           \n",
    "\n",
    "\n"
   ]
  },
  {
   "cell_type": "code",
   "execution_count": 8,
   "metadata": {},
   "outputs": [
    {
     "name": "stdout",
     "output_type": "stream",
     "text": [
      "/Users/maggieilieva/Documents/SocialWeb/Comments/Midway.csv\n",
      "/Users/maggieilieva/Documents/SocialWeb/Comments/Saving_Christmas.csv\n",
      "/Users/maggieilieva/Documents/SocialWeb/Comments/The_Last_Thing_He_Wanted.csv\n",
      "/Users/maggieilieva/Documents/SocialWeb/Comments/commentsTheLastAirbender.csv\n",
      "/Users/maggieilieva/Documents/SocialWeb/Comments/Interstellar.csv\n",
      "/Users/maggieilieva/Documents/SocialWeb/Comments/Little_Women.csv\n",
      "/Users/maggieilieva/Documents/SocialWeb/Comments/Hustlers.csv\n",
      "/Users/maggieilieva/Documents/SocialWeb/Comments/final_result.csv\n",
      "/Users/maggieilieva/Documents/SocialWeb/Comments/Atomic_Blonde.csv\n",
      "/Users/maggieilieva/Documents/SocialWeb/Comments/comments-theFarm.csv\n",
      "/Users/maggieilieva/Documents/SocialWeb/Comments/Fantasy_Island.csv\n",
      "/Users/maggieilieva/Documents/SocialWeb/Comments/Avatar.csv\n",
      "/Users/maggieilieva/Documents/SocialWeb/Comments/Joker.csv\n",
      "/Users/maggieilieva/Documents/SocialWeb/Comments/Charlies_Angels.csv\n",
      "/Users/maggieilieva/Documents/SocialWeb/Comments/comments-Disaster Movie.csv\n",
      "/Users/maggieilieva/Documents/SocialWeb/Comments/comments-Left Behind.csv\n",
      "/Users/maggieilieva/Documents/SocialWeb/Comments/Peter_Rabbit.csv\n",
      "/Users/maggieilieva/Documents/SocialWeb/Comments/Coco.csv\n",
      "/Users/maggieilieva/Documents/SocialWeb/Comments/Suicide_Squad.csv\n",
      "/Users/maggieilieva/Documents/SocialWeb/Comments/The_Kissing_Booth.csv\n",
      "/Users/maggieilieva/Documents/SocialWeb/Comments/JOJO_RABBIT.csv\n",
      "/Users/maggieilieva/Documents/SocialWeb/Comments/Slender_Man.csv\n",
      "/Users/maggieilieva/Documents/SocialWeb/Comments/everything_everything.csv\n",
      "/Users/maggieilieva/Documents/SocialWeb/Comments/The_Emoji_Movie.csv\n",
      "/Users/maggieilieva/Documents/SocialWeb/Comments/1917.csv\n",
      "/Users/maggieilieva/Documents/SocialWeb/Comments/The_Invisible_Man.csv\n",
      "/Users/maggieilieva/Documents/SocialWeb/Comments/Batman_v_Superman.csv\n",
      "/Users/maggieilieva/Documents/SocialWeb/Comments/Inside_Out.csv\n",
      "/Users/maggieilieva/Documents/SocialWeb/Comments/Halloween.csv\n",
      "/Users/maggieilieva/Documents/SocialWeb/Comments/The_Boy_Next_Door.csv\n",
      "/Users/maggieilieva/Documents/SocialWeb/Comments/Parasite.csv\n",
      "/Users/maggieilieva/Documents/SocialWeb/Comments/FORD_v_FERRARI.csv\n",
      "/Users/maggieilieva/Documents/SocialWeb/Comments/Motherless_Brooklyn.csv\n",
      "/Users/maggieilieva/Documents/SocialWeb/Comments/The_Commuter.csv\n",
      "/Users/maggieilieva/Documents/SocialWeb/Comments/Company_of_Heroes.csv\n",
      "/Users/maggieilieva/Documents/SocialWeb/Comments/Green_Book.csv\n"
     ]
    }
   ],
   "source": [
    "import glob\n",
    "for file in glob.glob('/Users/maggieilieva/Documents/SocialWeb/Comments/*.csv'):\n",
    "    print(file)"
   ]
  }
 ],
 "metadata": {
  "kernelspec": {
   "display_name": "Python 3",
   "language": "python",
   "name": "python3"
  },
  "language_info": {
   "codemirror_mode": {
    "name": "ipython",
    "version": 3
   },
   "file_extension": ".py",
   "mimetype": "text/x-python",
   "name": "python",
   "nbconvert_exporter": "python",
   "pygments_lexer": "ipython3",
   "version": "3.5.5"
  }
 },
 "nbformat": 4,
 "nbformat_minor": 2
}
